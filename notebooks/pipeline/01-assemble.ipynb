{
 "cells": [
  {
   "cell_type": "markdown",
   "id": "ce053d77-e779-410c-b7ee-0abf0d457344",
   "metadata": {},
   "source": [
    "# Assemble\n",
    "\n",
    "This notebook loads and assembles all your basic data sources, including tabulor and geospatial data.\n",
    "\n",
    "The final output is two dataframes:\n",
    "\n",
    "- UNIVERSE\n",
    "- SALES\n",
    "\n",
    "The SALES dataframe represents transactions or parcels; these are ownership transfers with prices, dates, and metadata.  \n",
    "The UNIVERSE dataframe represents the parcels themselves (land and buildings, and their associated characteristics).\n",
    "\n",
    "These will be packaged together in a handy data structure called a `SalesUniversePair`, or `sup` for short. `openavmkit` provides many handy functions that carefully perform operations on `sup`s without mixing up their fields.\n",
    "\n",
    "The key thing to understand is that the **Assemble** notebook outputs a `sup` that represents *factual assertions* about the world. In later notebooks, we will have to add assumptions, opinions, and educated guesses, but we first will establish the firmest facts we can in this notebook.\n",
    "\n",
    "You can think of the two dataframes in the `sup` as answering the following questions:\n",
    "\n",
    "- UNIVERSE:\n",
    "  - Where is each parcel located in space, and what is its shape?\n",
    "  - What are the *current* characteristics of each parcel?\n",
    "    - Which parcels have buildings and which are vacant lots?\n",
    "    - How big is each parcel?\n",
    "    - What is the age/size/quality/condition/etc of each building?\n",
    "- SALES:\n",
    "  - Which parcels have sold?\n",
    "  - What prices did they sell for?\n",
    "  - What dates did they sell on?\n",
    "  - Which sales were valid?\n",
    "  - What characteristics were different *at the time of sale* from how the parcel is now?\n",
    "\n"
   ]
  },
  {
   "cell_type": "code",
   "execution_count": 1,
   "id": "initial_id",
   "metadata": {},
   "outputs": [],
   "source": [
    "# Change these as desired\n",
    "\n",
    "# The slug of the locality you are currently working on\n",
    "locality = \"us-nc-guilford\"\n",
    "\n",
    "# Whether to print out a lot of stuff (can help with debugging) or stay mostly quiet\n",
    "verbose = True\n",
    "\n",
    "# Clear previous state for this notebook and start fresh\n",
    "clear_checkpoints = True"
   ]
  },
  {
   "cell_type": "markdown",
   "id": "7b11d468-1d7d-43eb-81ed-a983c5fb78b7",
   "metadata": {},
   "source": [
    "# 1. Basic setup"
   ]
  },
  {
   "cell_type": "code",
   "execution_count": 2,
   "id": "f1414e0d-5738-4713-8b1d-e6d66930b286",
   "metadata": {},
   "outputs": [
    {
     "name": "stdout",
     "output_type": "stream",
     "text": [
      "Environment setup completed.\n"
     ]
    }
   ],
   "source": [
    "import init_notebooks\n",
    "init_notebooks.setup_environment()"
   ]
  },
  {
   "cell_type": "code",
   "execution_count": 3,
   "id": "e670e4a6-4e2e-4d78-95bd-978a2bd12d98",
   "metadata": {},
   "outputs": [],
   "source": [
    "# import OpenAVMkit:\n",
    "from openavmkit.pipeline import ( \n",
    "    init_notebook,\n",
    "    from_checkpoint,\n",
    "    delete_checkpoints,\n",
    "    examine_df,\n",
    "    examine_df_in_ridiculous_detail,\n",
    "    examine_sup,\n",
    "    examine_sup_in_ridiculous_detail,\n",
    "    cloud_sync,\n",
    "    load_settings,\n",
    "    load_dataframes,\n",
    "    process_data,\n",
    "    process_sales,\n",
    "    tag_model_groups_sup,\n",
    "    write_notebook_output_sup\n",
    ")"
   ]
  },
  {
   "cell_type": "code",
   "execution_count": 4,
   "id": "9c38b672-1f29-4e9f-b32c-671810b1c721",
   "metadata": {},
   "outputs": [
    {
     "name": "stdout",
     "output_type": "stream",
     "text": [
      "locality = us-nc-guilford\n",
      "base path = C:\\MaxClark\\savingtheworld\\openavmkit\\notebooks\\pipeline\n",
      "current path = C:\\MaxClark\\savingtheworld\\openavmkit\\notebooks\\pipeline\\data\\us-nc-guilford\n"
     ]
    }
   ],
   "source": [
    "init_notebook(locality)"
   ]
  },
  {
   "cell_type": "code",
   "execution_count": 5,
   "id": "1c05828b-a5bf-420f-8dfc-e1fe86f3afcc",
   "metadata": {},
   "outputs": [],
   "source": [
    "if clear_checkpoints:\n",
    "    delete_checkpoints(\"1-assemble\")"
   ]
  },
  {
   "cell_type": "code",
   "execution_count": 6,
   "id": "c0e77949-e681-4d7c-bbd8-86284d4e883d",
   "metadata": {},
   "outputs": [],
   "source": [
    "settings = load_settings()"
   ]
  },
  {
   "cell_type": "markdown",
   "id": "e9b2b771-08a9-4512-9fa8-4dd2119c213c",
   "metadata": {},
   "source": [
    "# 2. Sync with Cloud\n",
    "- If you have configured cloud storage, syncs with your remote storage\n",
    "- Reconciles your local input files with the versions on the remote server\n",
    "- Pulls down whatever is newer from the remote server\n",
    "- Uploads whatever is newer from your local machine"
   ]
  },
  {
   "cell_type": "code",
   "execution_count": 7,
   "id": "59f4d61d-52f3-4c1c-9bef-d06a412f091e",
   "metadata": {
    "scrolled": true
   },
   "outputs": [
    {
     "name": "stdout",
     "output_type": "stream",
     "text": [
      "Initializing cloud service of type 'huggingface' with access 'read_only'...\n",
      "_init_service('huggingface', 'read_only')\n",
      "ignore_paths = []\n",
      "Syncing files from local=\"in\" to remote=\"us/nc/guilford/\"...\n",
      "RepoFolder(path='us/nc/guilford/geo', tree_id='fc00d683410acadc70a33d0df67f37d24c196de7', last_commit=LastCommitInfo(oid='90979a1b96ec27efc351ca1ac7635bb716f580e9', title='Upload via OpenAVMKit', date=datetime.datetime(2025, 2, 28, 21, 16, 2, tzinfo=datetime.timezone.utc)))\n",
      "us/nc/guilford/settings.json\n",
      "us/nc/guilford/.ipynb_checkpoints\n",
      "us/nc/guilford/.ipynb_checkpoints/settings-checkpoint.json\n",
      "Local file 'in/building.csv' missing for remote file 'us/nc/guilford/building.csv'. Downloading...\n",
      "Downloading 'in/building.csv' <-- 'us/nc/guilford/building.csv'...\n"
     ]
    },
    {
     "ename": "HTTPError",
     "evalue": "401 Client Error: Unauthorized for url: https://huggingface.co/datasets/landeconomics/localities-public/resolve/main/us/nc/guilford/building.csv",
     "output_type": "error",
     "traceback": [
      "\u001b[1;31m---------------------------------------------------------------------------\u001b[0m",
      "\u001b[1;31mHTTPError\u001b[0m                                 Traceback (most recent call last)",
      "Cell \u001b[1;32mIn[7], line 1\u001b[0m\n\u001b[1;32m----> 1\u001b[0m \u001b[43mcloud_sync\u001b[49m\u001b[43m(\u001b[49m\u001b[43mlocality\u001b[49m\u001b[43m,\u001b[49m\u001b[43m \u001b[49m\u001b[43mverbose\u001b[49m\u001b[38;5;241;43m=\u001b[39;49m\u001b[38;5;28;43;01mTrue\u001b[39;49;00m\u001b[43m,\u001b[49m\u001b[43m \u001b[49m\u001b[43menv_path\u001b[49m\u001b[38;5;241;43m=\u001b[39;49m\u001b[38;5;124;43m\"\u001b[39;49m\u001b[38;5;124;43m../../../.env\u001b[39;49m\u001b[38;5;124;43m\"\u001b[39;49m\u001b[43m,\u001b[49m\u001b[43m \u001b[49m\u001b[43msettings\u001b[49m\u001b[38;5;241;43m=\u001b[39;49m\u001b[43msettings\u001b[49m\u001b[43m)\u001b[49m\n",
      "File \u001b[1;32mC:\\MaxClark\\savingtheworld\\openavmkit\\openavmkit\\pipeline.py:775\u001b[0m, in \u001b[0;36mcloud_sync\u001b[1;34m(locality, verbose, env_path, settings, dry_run, ignore_paths)\u001b[0m\n\u001b[0;32m    772\u001b[0m \u001b[38;5;28mprint\u001b[39m(\u001b[38;5;124mf\u001b[39m\u001b[38;5;124m\"\u001b[39m\u001b[38;5;124mignore_paths = \u001b[39m\u001b[38;5;132;01m{\u001b[39;00mignore_paths\u001b[38;5;132;01m}\u001b[39;00m\u001b[38;5;124m\"\u001b[39m)\n\u001b[0;32m    774\u001b[0m remote_path \u001b[38;5;241m=\u001b[39m locality\u001b[38;5;241m.\u001b[39mreplace(\u001b[38;5;124m\"\u001b[39m\u001b[38;5;124m-\u001b[39m\u001b[38;5;124m\"\u001b[39m, \u001b[38;5;124m\"\u001b[39m\u001b[38;5;124m/\u001b[39m\u001b[38;5;124m\"\u001b[39m) \u001b[38;5;241m+\u001b[39m \u001b[38;5;124m\"\u001b[39m\u001b[38;5;124m/\u001b[39m\u001b[38;5;124m\"\u001b[39m\n\u001b[1;32m--> 775\u001b[0m \u001b[43mcloud_service\u001b[49m\u001b[38;5;241;43m.\u001b[39;49m\u001b[43msync_files\u001b[49m\u001b[43m(\u001b[49m\u001b[43mlocality\u001b[49m\u001b[43m,\u001b[49m\u001b[43m \u001b[49m\u001b[38;5;124;43m\"\u001b[39;49m\u001b[38;5;124;43min\u001b[39;49m\u001b[38;5;124;43m\"\u001b[39;49m\u001b[43m,\u001b[49m\u001b[43m \u001b[49m\u001b[43mremote_path\u001b[49m\u001b[43m,\u001b[49m\u001b[43m \u001b[49m\u001b[43mdry_run\u001b[49m\u001b[38;5;241;43m=\u001b[39;49m\u001b[43mdry_run\u001b[49m\u001b[43m,\u001b[49m\u001b[43m \u001b[49m\u001b[43mverbose\u001b[49m\u001b[38;5;241;43m=\u001b[39;49m\u001b[43mverbose\u001b[49m\u001b[43m,\u001b[49m\u001b[43m \u001b[49m\u001b[43mignore_paths\u001b[49m\u001b[38;5;241;43m=\u001b[39;49m\u001b[43mignore_paths\u001b[49m\u001b[43m)\u001b[49m\n",
      "File \u001b[1;32mC:\\MaxClark\\savingtheworld\\openavmkit\\openavmkit\\cloud\\base.py:186\u001b[0m, in \u001b[0;36mCloudService.sync_files\u001b[1;34m(self, locality, local_folder, remote_folder, dry_run, verbose, ignore_paths)\u001b[0m\n\u001b[0;32m    184\u001b[0m   _print_download(file\u001b[38;5;241m.\u001b[39mname, local_file_path)\n\u001b[0;32m    185\u001b[0m   \u001b[38;5;28;01mif\u001b[39;00m \u001b[38;5;129;01mnot\u001b[39;00m dry_run:\n\u001b[1;32m--> 186\u001b[0m     \u001b[38;5;28;43mself\u001b[39;49m\u001b[38;5;241;43m.\u001b[39;49m\u001b[43mdownload_file\u001b[49m\u001b[43m(\u001b[49m\u001b[43mfile\u001b[49m\u001b[43m,\u001b[49m\u001b[43m \u001b[49m\u001b[43mlocal_file_path\u001b[49m\u001b[43m)\u001b[49m\n\u001b[0;32m    187\u001b[0m \u001b[38;5;28;01melse\u001b[39;00m:\n\u001b[0;32m    188\u001b[0m   \u001b[38;5;28;01mif\u001b[39;00m os\u001b[38;5;241m.\u001b[39mpath\u001b[38;5;241m.\u001b[39misdir(local_file_path):\n",
      "File \u001b[1;32mC:\\MaxClark\\savingtheworld\\openavmkit\\openavmkit\\cloud\\huggingface.py:82\u001b[0m, in \u001b[0;36mHuggingFaceService.download_file\u001b[1;34m(self, remote_file, local_file_path)\u001b[0m\n\u001b[0;32m     80\u001b[0m headers \u001b[38;5;241m=\u001b[39m {\u001b[38;5;124m\"\u001b[39m\u001b[38;5;124mauthorization\u001b[39m\u001b[38;5;124m\"\u001b[39m: \u001b[38;5;124mf\u001b[39m\u001b[38;5;124m\"\u001b[39m\u001b[38;5;124mBearer \u001b[39m\u001b[38;5;132;01m{\u001b[39;00m\u001b[38;5;28mself\u001b[39m\u001b[38;5;241m.\u001b[39mtoken\u001b[38;5;132;01m}\u001b[39;00m\u001b[38;5;124m\"\u001b[39m}\n\u001b[0;32m     81\u001b[0m response \u001b[38;5;241m=\u001b[39m requests\u001b[38;5;241m.\u001b[39mget(url, headers\u001b[38;5;241m=\u001b[39mheaders)\n\u001b[1;32m---> 82\u001b[0m \u001b[43mresponse\u001b[49m\u001b[38;5;241;43m.\u001b[39;49m\u001b[43mraise_for_status\u001b[49m\u001b[43m(\u001b[49m\u001b[43m)\u001b[49m\n\u001b[0;32m     83\u001b[0m \u001b[38;5;28;01mwith\u001b[39;00m \u001b[38;5;28mopen\u001b[39m(local_file_path, \u001b[38;5;124m\"\u001b[39m\u001b[38;5;124mwb\u001b[39m\u001b[38;5;124m\"\u001b[39m) \u001b[38;5;28;01mas\u001b[39;00m f:\n\u001b[0;32m     84\u001b[0m   f\u001b[38;5;241m.\u001b[39mwrite(response\u001b[38;5;241m.\u001b[39mcontent)\n",
      "File \u001b[1;32mC:\\MaxClark\\savingtheworld\\openavmkit\\venv\\Lib\\site-packages\\requests\\models.py:1024\u001b[0m, in \u001b[0;36mResponse.raise_for_status\u001b[1;34m(self)\u001b[0m\n\u001b[0;32m   1019\u001b[0m     http_error_msg \u001b[38;5;241m=\u001b[39m (\n\u001b[0;32m   1020\u001b[0m         \u001b[38;5;124mf\u001b[39m\u001b[38;5;124m\"\u001b[39m\u001b[38;5;132;01m{\u001b[39;00m\u001b[38;5;28mself\u001b[39m\u001b[38;5;241m.\u001b[39mstatus_code\u001b[38;5;132;01m}\u001b[39;00m\u001b[38;5;124m Server Error: \u001b[39m\u001b[38;5;132;01m{\u001b[39;00mreason\u001b[38;5;132;01m}\u001b[39;00m\u001b[38;5;124m for url: \u001b[39m\u001b[38;5;132;01m{\u001b[39;00m\u001b[38;5;28mself\u001b[39m\u001b[38;5;241m.\u001b[39murl\u001b[38;5;132;01m}\u001b[39;00m\u001b[38;5;124m\"\u001b[39m\n\u001b[0;32m   1021\u001b[0m     )\n\u001b[0;32m   1023\u001b[0m \u001b[38;5;28;01mif\u001b[39;00m http_error_msg:\n\u001b[1;32m-> 1024\u001b[0m     \u001b[38;5;28;01mraise\u001b[39;00m HTTPError(http_error_msg, response\u001b[38;5;241m=\u001b[39m\u001b[38;5;28mself\u001b[39m)\n",
      "\u001b[1;31mHTTPError\u001b[0m: 401 Client Error: Unauthorized for url: https://huggingface.co/datasets/landeconomics/localities-public/resolve/main/us/nc/guilford/building.csv"
     ]
    }
   ],
   "source": [
    "cloud_sync(locality, verbose=True, env_path=\"../../../.env\", settings=settings)"
   ]
  },
  {
   "cell_type": "markdown",
   "id": "38e301d1-0416-4512-8da9-130569a2b1e0",
   "metadata": {},
   "source": [
    "# 3. Load & process data"
   ]
  },
  {
   "cell_type": "code",
   "execution_count": null,
   "id": "b0427dfa-883f-49a5-8344-353264eec4e3",
   "metadata": {},
   "outputs": [],
   "source": [
    "# load all of our initial dataframes, but don't do anything with them just yet\n",
    "dataframes = from_checkpoint(\"1-assemble-01-load_dataframes\", load_dataframes,\n",
    "    {\n",
    "        \"settings\":settings,\n",
    "        \"verbose\":verbose\n",
    "    }\n",
    ")"
   ]
  },
  {
   "cell_type": "code",
   "execution_count": null,
   "id": "8f5ce66d-8269-42c7-b60d-29c2363c1df8",
   "metadata": {},
   "outputs": [],
   "source": [
    "# assemble our data\n",
    "sales_univ_pair = from_checkpoint(\"1-assemble-02-process_data\", process_data,\n",
    "    {\n",
    "        \"dataframes\":dataframes, \n",
    "        \"settings\":settings, \n",
    "        \"verbose\":verbose\n",
    "    }\n",
    ")"
   ]
  },
  {
   "cell_type": "markdown",
   "id": "4878531b-cbe9-401f-a6c1-ed10b9710599",
   "metadata": {},
   "source": [
    "# 4. Inspect results\n",
    "\n",
    "## 4.1 Examine\n",
    "\n",
    "- Run the next cell and look at the printed out results.\n",
    "- Note the \"Non-zero\" and \"Non-null\" columns in particular and make sure they're what you expect\n",
    "- This view is for a quick glance to get a good idea of what all your data is"
   ]
  },
  {
   "cell_type": "code",
   "execution_count": null,
   "id": "e862e4b7-db7d-4662-8a1c-be900f0a12b2",
   "metadata": {},
   "outputs": [],
   "source": [
    "settings = load_settings()\n",
    "examine_sup(sales_univ_pair, settings)"
   ]
  },
  {
   "cell_type": "markdown",
   "id": "15f9fd42-90eb-41c0-baa1-e417f3753890",
   "metadata": {},
   "source": [
    "## 4.2 Examine in ridiculous detail\n",
    "\n",
    "- You've looked, now LOOK AGAIN. This cell will run `describe()` for each numeric field and `value_counts()` for each categorical field.\n",
    "- Use this info to decide which variables are useful/useless\n",
    "- Consult this readout when you build your modeling group filters"
   ]
  },
  {
   "cell_type": "code",
   "execution_count": null,
   "id": "80a9639c-48bf-4086-a114-78651516527f",
   "metadata": {
    "scrolled": true
   },
   "outputs": [],
   "source": [
    "examine_sup_in_ridiculous_detail(sales_univ_pair, settings)"
   ]
  },
  {
   "cell_type": "markdown",
   "id": "9c35091f-a668-4661-af16-58ef31e1c1f0",
   "metadata": {},
   "source": [
    "## 4.3 Look at it on a map\n",
    "\n",
    "- Go to your `out/look/` folder\n",
    "- There should be parquets there\n",
    "- Drop them into ArcGIS, QGIS, or Felt\n",
    "- Look at your location fields and make sure they make sense"
   ]
  },
  {
   "cell_type": "markdown",
   "id": "2014e0b6-fe72-4d90-b294-fd141d608de1",
   "metadata": {},
   "source": [
    "# 5. Tag modeling groups\n",
    "- Separates rows into groups like \"single family\", \"townhomes\" and \"commercial\" as specified by the user\n",
    "- These groups will guide all further processing"
   ]
  },
  {
   "cell_type": "code",
   "execution_count": null,
   "id": "a6b9d80b-4d56-4c87-ba14-eac97be442fb",
   "metadata": {},
   "outputs": [],
   "source": [
    "settings = load_settings()\n",
    "sales_univ_pair = from_checkpoint(\"1-assemble-04-tag_modeling_groups\", tag_model_groups_sup,\n",
    "    {\n",
    "        \"sup\": sales_univ_pair, \n",
    "        \"settings\": settings, \n",
    "        \"verbose\": verbose\n",
    "    }\n",
    ")"
   ]
  },
  {
   "cell_type": "markdown",
   "id": "dc25049d-3eee-486b-996e-142f0701eb74",
   "metadata": {},
   "source": [
    "# 6. Write out results"
   ]
  },
  {
   "cell_type": "code",
   "execution_count": null,
   "id": "752ae7c9-b1a3-4694-8d4e-e8e0ebbedd56",
   "metadata": {},
   "outputs": [],
   "source": [
    "write_notebook_output_sup(sales_univ_pair, \"1-assemble\")"
   ]
  },
  {
   "cell_type": "markdown",
   "id": "8f170f00-38bd-4f8c-a734-28fb0cd9a92f",
   "metadata": {},
   "source": [
    "# 7. Look at it on a map!\n",
    "- Take the files output in the previous step and put them in a map viewer like QGIS, ArcGIS, or Felt\n",
    "- Look at them with your eyeballs\n",
    "- Make sure the data looks correct\n",
    "- If not, go back and fix it!\n",
    "- Don't proceed to the next step until everything looks right"
   ]
  },
  {
   "cell_type": "code",
   "execution_count": null,
   "id": "cc8da3e2-99d7-484e-af80-9ea8322dff31",
   "metadata": {},
   "outputs": [],
   "source": []
  }
 ],
 "metadata": {
  "kernelspec": {
   "display_name": "Python 3 (ipykernel)",
   "language": "python",
   "name": "python3"
  },
  "language_info": {
   "codemirror_mode": {
    "name": "ipython",
    "version": 3
   },
   "file_extension": ".py",
   "mimetype": "text/x-python",
   "name": "python",
   "nbconvert_exporter": "python",
   "pygments_lexer": "ipython3",
   "version": "3.12.9"
  }
 },
 "nbformat": 4,
 "nbformat_minor": 5
}
